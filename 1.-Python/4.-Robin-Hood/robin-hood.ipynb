{
 "cells": [
  {
   "cell_type": "markdown",
   "metadata": {},
   "source": [
    "<img src=\"https://bit.ly/2VnXWr2\" width=\"100\" align=\"left\"/>"
   ]
  },
  {
   "cell_type": "markdown",
   "metadata": {},
   "source": [
    "# Robin Hood\n",
    "Robin Hood has entered a competition to win the archery contest in Sherwood. With his bow and arrows, he needs to shoot on a target and try to hit as close as possible to the center.\n",
    "\n",
    "![](images/arrows.jpg)\n",
    "\n",
    "## Context\n",
    "In this challenge, the landing position of arrows shot by archers in the competition will be represented using 2-dimensional coordinates. \n",
    "\n",
    "In the 2-dimensional space, a point can be defined by a pair of values that correspond to the horizontal coordinate (x) and the vertical coordinate (y). For example, in our case, an arrow that hits the center of the archery target will land in position (0, 0) on the coordinate axes. \n",
    "\n",
    "The space can be divided into 4 zones (quadrants): Q1, Q2, Q3, Q4. If a point is in Q1, both its x coordinate and y coordinate are positive. Any point with a null x or y coordinate is considered to not belong to any quadrant. \n",
    "\n",
    "If you want to know more about the cartesian coordinate system, you can check this [link](https://en.wikipedia.org/wiki/Cartesian_coordinate_system). \n",
    "\n",
    "## Tools\n",
    "You don't necessarily need to use all the tools. Maybe you opt to use some of them or completely different ones, they are given to help you shape the exercise. Programming exercises can be solved in many different ways.\n",
    "* Data structures: **lists, sets, tuples**\n",
    "* Conditional statements: **if-elif-else**\n",
    "* Loop: **while/for**\n",
    "* Minimum (optional sorting)\n",
    "\n",
    "## Tasks\n",
    "Robin Hood has hit the following points:"
   ]
  },
  {
   "cell_type": "code",
   "execution_count": 18,
   "metadata": {},
   "outputs": [],
   "source": [
    "points = [(4, 5), (-0, 2), (4, 7), (1, -3), (3, -2), (4, 5), (3, 2), (5, 7), (-5, 7), (2, 2), (-4, 5), (0, -2),\n",
    "          (-4, 7), (-1, 3), (-3, 2), (-4, -5), (-3, 2), (5, 7), (5, 7), (2, 2), (9, 9), (-8, -9)]"
   ]
  },
  {
   "cell_type": "markdown",
   "metadata": {},
   "source": [
    "#### 1. Robin Hood is famous for hitting an arrow with another arrow. Find the coordinates of the points where an arrow hits another arrow."
   ]
  },
  {
   "cell_type": "code",
   "execution_count": 3,
   "metadata": {},
   "outputs": [
    {
     "name": "stdout",
     "output_type": "stream",
     "text": [
      "[(4, 5), (-3, 2), (5, 7), (5, 7), (2, 2)]\n"
     ]
    }
   ],
   "source": [
    "matching_coordinates = []\n",
    "seen_points = set()\n",
    "\n",
    "for point in points:\n",
    "    if point in seen_points:\n",
    "        matching_coordinates.append(point)\n",
    "    else:\n",
    "        seen_points.add(point)\n",
    "\n",
    "print(matching_coordinates)\n"
   ]
  },
  {
   "cell_type": "markdown",
   "metadata": {},
   "source": [
    "#### 2. Calculate how many arrows have fallen in each quadrant. \n",
    "**Note**: the arrows that fall in the axis (x=0 or y=0) don't belong to any quadrant."
   ]
  },
  {
   "cell_type": "code",
   "execution_count": 17,
   "metadata": {},
   "outputs": [
    {
     "name": "stdout",
     "output_type": "stream",
     "text": [
      "10\n",
      "2\n",
      "2\n",
      "6\n",
      "22\n"
     ]
    }
   ],
   "source": [
    "quadrant_1 = 0\n",
    "quadrant_2 = 0\n",
    "quadrant_3 = 0\n",
    "quadrant_4 = 0\n",
    "\n",
    "for point in points:\n",
    "    x_coordinate = point[0]\n",
    "    y_coordinate = point[1]\n",
    "\n",
    "    if x_coordinate == 0 or y_coordinate == 0:\n",
    "        continue\n",
    "\n",
    "    if x_coordinate > 0 and y_coordinate > 0:\n",
    "        quadrant_1 += 1\n",
    "    if x_coordinate > 0 and y_coordinate < 0:\n",
    "        quadrant_2 += 1\n",
    "    if x_coordinate < 0 and y_coordinate < 0:\n",
    "        quadrant_3 += 1\n",
    "    if x_coordinate < 0 and y_coordinate > 0:\n",
    "        quadrant_4 += 1\n",
    "\n",
    "print(quadrant_1)\n",
    "print(quadrant_2)\n",
    "print(quadrant_3)\n",
    "print(quadrant_4)"
   ]
  },
  {
   "cell_type": "markdown",
   "metadata": {},
   "source": [
    "#### 3. Find the point closest to the center. Calculate its distance to the center. \n",
    "Take into account that there might be more than one point at the minimum distance to the center.\n",
    "\n",
    "**Hint**: Use the Euclidean distance. You can find more information about it [here](https://en.wikipedia.org/wiki/Euclidean_distance).  \n",
    "**Hint**: Defining a function that calculates the distance to the center can help."
   ]
  },
  {
   "cell_type": "code",
   "execution_count": 50,
   "metadata": {},
   "outputs": [
    {
     "name": "stdout",
     "output_type": "stream",
     "text": [
      "closest_point\n",
      "2.0\n",
      "closest_point_cordinates\n",
      "[(4, 7), (-4, 7)]\n"
     ]
    }
   ],
   "source": [
    "def distanceCalculator(point):\n",
    "    return ((point[0]) ** 2 + (point[1]) ** 2) ** 0.5\n",
    "\n",
    "points_distance = []\n",
    "\n",
    "for point in points:\n",
    "    distance = distanceCalculator(point)\n",
    "    points_distance.append(distance)\n",
    "\n",
    "closest_point = points_distance[0]\n",
    "index = 0\n",
    "closest_point_cordinates = []\n",
    "\n",
    "for point in points_distance:\n",
    "    if point <= closest_point:\n",
    "        closest_point = point\n",
    "\n",
    "for point in points_distance:\n",
    "    index += 1\n",
    "    if point == closest_point:\n",
    "        closest_point_cordinates.append(points[index])\n",
    "\n",
    "print(\"closest_point\")\n",
    "print(closest_point)\n",
    "print(\"closest_point_cordinates\")\n",
    "print(closest_point_cordinates)\n",
    "\n",
    "\n",
    "\n"
   ]
  },
  {
   "cell_type": "markdown",
   "metadata": {},
   "source": [
    "#### 4. If the archery target has a radius of 9, calculate the number of arrows that won't hit the target. \n",
    "**Hint**: Use the function created in step 3. "
   ]
  },
  {
   "cell_type": "code",
   "execution_count": 55,
   "metadata": {},
   "outputs": [
    {
     "name": "stdout",
     "output_type": "stream",
     "text": [
      "2\n"
     ]
    }
   ],
   "source": [
    "def distanceCalculator(point):\n",
    "    return ((point[0]) ** 2 + (point[1]) ** 2) ** 0.5\n",
    "\n",
    "points_distance = []\n",
    "\n",
    "for point in points:\n",
    "    distance = distanceCalculator(point)\n",
    "    points_distance.append(distance)\n",
    "\n",
    "index = 0\n",
    "points_within_radius = []\n",
    "\n",
    "for point_distance in points_distance:\n",
    "    index += 1\n",
    "    if point_distance <= 9:\n",
    "        points_within_radius.append(points[index])\n",
    "\n",
    "print(len(points)-len(points_within_radius))"
   ]
  }
 ],
 "metadata": {
  "kernelspec": {
   "display_name": "Python 3.7.3 64-bit",
   "language": "python",
   "name": "python3"
  },
  "language_info": {
   "codemirror_mode": {
    "name": "ipython",
    "version": 3
   },
   "file_extension": ".py",
   "mimetype": "text/x-python",
   "name": "python",
   "nbconvert_exporter": "python",
   "pygments_lexer": "ipython3",
   "version": "3.7.3"
  },
  "vscode": {
   "interpreter": {
    "hash": "31f2aee4e71d21fbe5cf8b01ff0e069b9275f58929596ceb00d14d90e3e16cd6"
   }
  }
 },
 "nbformat": 4,
 "nbformat_minor": 2
}
